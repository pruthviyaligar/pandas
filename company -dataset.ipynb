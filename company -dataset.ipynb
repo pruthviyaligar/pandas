{
 "cells": [
  {
   "cell_type": "markdown",
   "id": "3292ea27",
   "metadata": {},
   "source": [
    "                           Asset Management Company Dataset"
   ]
  },
  {
   "cell_type": "markdown",
   "id": "4f7ca09a",
   "metadata": {},
   "source": [
    "                                Introduction\n",
    "The Objective is to identify the best countries and a suitable investment type for making the\n",
    "investment. The overall strategy is to invest where others are investing, implying that the best\n",
    "countries are the ones ‘where most investors are investing’."
   ]
  },
  {
   "cell_type": "markdown",
   "id": "ec29f875",
   "metadata": {},
   "source": [
    "Data Dictionary\n",
    "\n",
    "\n",
    "* Permalink -Unique ID of Companies\n",
    "\n",
    "* name -name of Companies\n",
    "\n",
    "* homeurl_page- Website URL\n",
    "\n",
    "* Category_list- Categories to which company belong\n",
    "\n",
    "* Status- Operational Status\n",
    "\n",
    "* country_code- country_code\n",
    "\n",
    "* state_code- state\n",
    "\n",
    "rounds2\n",
    "\n",
    "* company_permalink- Unique ID of company\n",
    "\n",
    "* funding_round_permalink- Unique ID of funding round\n",
    "\n",
    "* funding_round_type Type of funding - Venture,angel, private equity\n",
    "\n",
    "* funding_round_code -Round of venture funding (round A,B..)\n",
    "\n",
    "* Funding_at -Date of funding\n",
    "\n",
    "* raised_amount_usd -Money raised in funding (USD)"
   ]
  },
  {
   "cell_type": "code",
   "execution_count": null,
   "id": "c3419db1",
   "metadata": {},
   "outputs": [],
   "source": [
    "Answer the below questions -\n",
    "1. Reading the Rounds2, companies.txt files.\n",
    "2. How many unique companies are present in rounds2?\n",
    "3. How many unique companies are present in the companies file?\n",
    "4.Write the code to convert companies[‘permalink’] and Round2[‘company_permalink’] columns\n",
    "to uppercase.\n",
    "5. Are there any companies in the rounds2 file which are not present in companies.txt ?\n",
    "6. Merge the two data frames so that all variables (columns) in the company's frame are added\n",
    "to the rounds2 data frame. Name the merged frame master_dataframe. How many observations\n",
    "are present in master_frame ?\n",
    "7. Write the code to drop the redundant column ‘'company_permalink' from the\n",
    "master_dataframe.\n",
    "8. Write the code to find the percentage missing value (column-wise) in master_dataframe. Drop\n",
    "unnecessary columns.\n",
    "9. Create a pivot table to compare the mean and median values for ‘raised_amount_usd’ and\n",
    "‘funding_round_type’ across different funding round categories..\n",
    "10. Filter the master_dataframe on ‘raised_amount_usd’ such as ‘raised_amount_usd’ lie\n",
    "between 4 Millions to 15 Millions.\n",
    "11.Identify the top 9 countries in terms of highest investment in ‘venture’ fund type.\n",
    "12. Create the ‘main_category’ column by extracting the first value using the column\n",
    "‘category_list’.\n",
    "Hint - Use the Lambda function or string function.\n",
    "13. Using the user defined function convert the ‘rasied_amount_used’ column into a categori"
   ]
  },
  {
   "cell_type": "markdown",
   "id": "0a343544",
   "metadata": {},
   "source": [
    "## 1. Reading the Rounds2, companies.txt files.\n"
   ]
  },
  {
   "cell_type": "code",
   "execution_count": null,
   "id": "6859b80a",
   "metadata": {},
   "outputs": [],
   "source": [
    "round2=pd.read_csv('ro')"
   ]
  }
 ],
 "metadata": {
  "kernelspec": {
   "display_name": "Python 3 (ipykernel)",
   "language": "python",
   "name": "python3"
  },
  "language_info": {
   "codemirror_mode": {
    "name": "ipython",
    "version": 3
   },
   "file_extension": ".py",
   "mimetype": "text/x-python",
   "name": "python",
   "nbconvert_exporter": "python",
   "pygments_lexer": "ipython3",
   "version": "3.9.12"
  }
 },
 "nbformat": 4,
 "nbformat_minor": 5
}
